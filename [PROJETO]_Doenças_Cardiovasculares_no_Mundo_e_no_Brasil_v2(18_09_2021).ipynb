{
  "nbformat": 4,
  "nbformat_minor": 0,
  "metadata": {
    "colab": {
      "name": "[PROJETO] Doenças Cardiovasculares no Mundo e no Brasil_v2(18-09-2021).ipynb",
      "provenance": [],
      "collapsed_sections": [],
      "include_colab_link": true
    },
    "kernelspec": {
      "name": "python3",
      "display_name": "Python 3"
    }
  },
  "cells": [
    {
      "cell_type": "markdown",
      "metadata": {
        "id": "view-in-github",
        "colab_type": "text"
      },
      "source": [
        "<a href=\"https://colab.research.google.com/github/YgorLourenco/Meu-Protfolio-Data-Science/blob/main/%5BPROJETO%5D_Doen%C3%A7as_Cardiovasculares_no_Mundo_e_no_Brasil_v2(18_09_2021).ipynb\" target=\"_parent\"><img src=\"https://colab.research.google.com/assets/colab-badge.svg\" alt=\"Open In Colab\"/></a>"
      ]
    },
    {
      "cell_type": "markdown",
      "metadata": {
        "id": "h2iIC1t3P7wX"
      },
      "source": [
        "<img alt=\"Minha logo\" width=\"100%\" src=\"https://i.imgur.com/Zk6Fjo1.jpg\">"
      ]
    },
    {
      "cell_type": "markdown",
      "metadata": {
        "id": "w0OlvP4PEdzR"
      },
      "source": [
        "# Análise Exploratória de Dados - Doenças Cardiovasculares\n",
        "\n",
        "Doenças cardiovasculares são uma classe contendo diferentes tipos de doenças que afetam de alguma maneira o coração ou os vasos sanguíneos. Dentro da classe, existem várias doenças comoangina de peito, cardiopatia, arritmia cardíaca e aneurisma da aorta.\n",
        "\n",
        "<center><img src=\"https://raw.githubusercontent.com/carlosfab/curso_data_science_na_pratica/master/modulo_03/396260-PCIO15-306.jpg\"></center>\n",
        "\n",
        "Apesar de ser uma das principais causas de morte em todo o mundo, estima-se que cerca de 90% das doenças cardiovasculares poderiam ser evitadas por meio da adoção de algumas medidas e mudanças no *lifestyle*.\n",
        "\n",
        "Existem hoje várias pesquisas na área de *Machine Learning* visando a construções de modelos preditivos que ajudem os médicos a descobrirem doenças cardiovasculares em seus pacientes.\n",
        "\n",
        "Estudos publicados na revista *na revista Nature Biomedical Engineering* mostram que algoritmos de *Deep Learning* foram capazes de antecipar doenças cardíacas em até 5 anos.\n",
        "\n",
        "Definitivamente, o uso de Inteligência Artificial tem impactado profundamente a área da saúde, e tem proporcionado aos profissionais médicos insumos de inteligência cada vez mais precisos.\n",
        "\n"
      ]
    },
    {
      "cell_type": "markdown",
      "metadata": {
        "id": "F3XPABqpLFOX"
      },
      "source": [
        "## Obtenção dos Dados\n",
        "\n",
        "O conjunto principal de dados usado neste projeto foi coletado da ***Cleveland Clinic Foundation*** e se encontra disponível no conhecido [Repositório UCI *Machine Learning*](https://archive.ics.uci.edu/ml/datasets/heart+Disease). Ressalta-se que os nomes, identidade e documentos pessoais dos pacientes foram removidos completamente do banco de dados.\n",
        "\n",
        "O *dataset* processado contém dados de 303 pessoas e 76 atributos. Entretanto, os principais artigos e estudos publicados optaram por usar apenas 14 atributos, considerados de maior relevância. Da mesma maneira, este projeto de *Data Science* usará essas mesmas 14 variáveis principais.\n",
        "\n",
        "<p><img alt=\"Colaboratory logo\" height=\"100\" src=\"https://raw.githubusercontent.com/carlosfab/curso_data_science_na_pratica/master/modulo_03/Large45.jpg\" align=\"right\" hspace=\"20px\" vspace=\"0px\"></p>\n",
        "\n",
        "* O arquivo `csv` com os dados de 303 pessoas e 14 atributos pode ser baixado [neste link](https://raw.githubusercontent.com/carlosfab/curso_data_science_na_pratica/master/modulo_03/heart-disease-uci.csv).\n",
        "\n",
        "* O arquivo contendo todos os detalhes e documentação do *dataset* usado neste projeto se encontra [neste link](https://github.com/carlosfab/curso_data_science_na_pratica/blob/master/modulo_03/heart-disease.names).\n",
        "\n",
        "* Há ainda um *dataset* secundário que será utilizado para ver a evolução no número de mortes por doenças cardiovasculares no Brasil (entre os anos de 2004-2017). Esses dados foram disponibilizados pela [Sociedade Brasileira de Cardiologia](http://www.cardiometro.com.br/anteriores.asp), e podem ser baixados [neste link](https://raw.githubusercontent.com/carlosfab/curso_data_science_na_pratica/master/modulo_03/mortes_doencas_cardiovasculares.csv).\n",
        "\n"
      ]
    },
    {
      "cell_type": "markdown",
      "metadata": {
        "id": "JTJNji8-CFbX"
      },
      "source": [
        "### Informações sobre os atributos:\n",
        "\n",
        "\n",
        "* `age` - idade em anos\n",
        "* `sex` - sexo do paciente\n",
        "  * 0: mulher\n",
        "  * 1: homem\n",
        "* `cp` - tipo da dor torácica\n",
        "  * 1: angina típica\n",
        "  * 2: angina atípica\n",
        "  * 3: dor não cardíaca\n",
        "  * 4: assintomática\n",
        "* `trestbps` - pressão arterial em repouso\n",
        "* `chol` - colesterol sérico (*mg/dl*)\n",
        "* `fbs` - açucar no sangue em jejum > 120*mg/dl*\n",
        "  * 0: `False`\n",
        "  * 1: `True`\n",
        "* `restecg` - resultado do eletrocardiografia de repouso\n",
        "  * 0: normal\n",
        "  * 1: anormalidades de ST-T  (inversão da onda T e elevação ou depressão de > 0.05*mV*)\n",
        "  * 2: hipertrofia ventricular esquerda provável ou definitiva (pelos critérios de Romhilt-Estes)\n",
        "* `thalach` - frequência cardíaca máxima atingida\n",
        "* `exang` - angina induzida pelo exercício\n",
        "  * 0: não\n",
        "  * 1: sim\n",
        "* `oldpeak` - depessão do segmento ST induzida pelo exercício em relação ao repouso\n",
        "* `slope` - inclinação do segmento ST no pico do exercício\n",
        "* `ca` - número de vasos principais colorido por fluoroscopia\n",
        "* `thal` - *thallium stress test*\n",
        "  * 3: normal\n",
        "  * 6: defeito fixo\n",
        "  * 7: defeito reversível\n",
        "* `num` - diagnóstico de doença cardíaca (diagnóstico angiográfico)\n",
        "  * 0: não há doença cardíaca ( < 50% de estreitamento do diâmetro)\n",
        "  * 1,2,3,4: há doença cardíaca ( > 50% de estreitamento do diâmetro)"
      ]
    },
    {
      "cell_type": "markdown",
      "metadata": {
        "id": "TjJW1eAGoH7Y"
      },
      "source": [
        "### Importar os Dados\n",
        "\n",
        "Em uma etapa inicial, importaremos os dois *datasets* mencionados no início do *notebook*:\n",
        "\n",
        "* Um contendo os dados relacionados às doenças cardiovasculares (303 pessoas e 14 atributos); e\n",
        "* Um contendo os dados da mortalidade no Brasil por doenças cardiovasculares."
      ]
    },
    {
      "cell_type": "code",
      "metadata": {
        "id": "lr_gI2RzC8EW",
        "cellView": "both"
      },
      "source": [
        "# importar as bibliotecas necessárias\n",
        "import pandas as pd\n",
        "import matplotlib.pyplot as plt\n",
        "import seaborn as sns\n",
        "\n",
        "# url dos datasets\n",
        "dataset_uci = \"https://raw.githubusercontent.com/carlosfab/curso_data_science_na_pratica/master/modulo_03/heart-disease-uci.csv\"\n",
        "dataset_brasil = \"https://raw.githubusercontent.com/carlosfab/curso_data_science_na_pratica/master/modulo_03/mortes_doencas_cardiovasculares.csv\"\n",
        "\n",
        "# importar dataset da UCI\n",
        "df = pd.read_csv(dataset_uci)\n",
        "\n",
        "# importar dataset dos indíces do Brasil\n",
        "df_brasil = pd.read_csv(dataset_brasil)"
      ],
      "execution_count": null,
      "outputs": []
    },
    {
      "cell_type": "markdown",
      "metadata": {
        "id": "xGfqlRc3DqzD"
      },
      "source": [
        "Olhando acima as informações sobre os atributos, percebemos que nossa variável alvo (`num`) possui cinco valores possíveis: \\[0, 1, 2, 3, 4\\].\n",
        "\n",
        "No entanto, seguindo a maioria das pesquisas que utilizaram esse *dataset*, iremos considerar apenas duas situações possíveis:\n",
        "\n",
        "* **0** - não há doença cardíaca\n",
        "* **1** - há doença cardíaca\n",
        "\n",
        "Então, iremos igualar a 1 os valores compreendidos entre 1-4."
      ]
    },
    {
      "cell_type": "code",
      "metadata": {
        "id": "nR53KX9ZvP-o",
        "colab": {
          "base_uri": "https://localhost:8080/"
        },
        "outputId": "904902ab-0a7d-4e7e-c7d7-de20e88eb4dd"
      },
      "source": [
        "# variável alvo antes\n",
        "df.num.value_counts()"
      ],
      "execution_count": null,
      "outputs": [
        {
          "output_type": "execute_result",
          "data": {
            "text/plain": [
              "0    164\n",
              "1     55\n",
              "2     36\n",
              "3     35\n",
              "4     13\n",
              "Name: num, dtype: int64"
            ]
          },
          "metadata": {},
          "execution_count": 5
        }
      ]
    },
    {
      "cell_type": "code",
      "metadata": {
        "id": "aI-Yx7cFu2tL"
      },
      "source": [
        "# converter valores >= 1 em 1\n",
        "df.loc[df.num != 0, 'num'] = 1"
      ],
      "execution_count": null,
      "outputs": []
    },
    {
      "cell_type": "code",
      "metadata": {
        "id": "JdnbfJH_DwY5",
        "colab": {
          "base_uri": "https://localhost:8080/"
        },
        "outputId": "bb5d2997-ec3f-4407-88b7-4ea01764d964"
      },
      "source": [
        "# variável alvo depois\n",
        "df.num.value_counts()"
      ],
      "execution_count": null,
      "outputs": [
        {
          "output_type": "execute_result",
          "data": {
            "text/plain": [
              "0    164\n",
              "1    139\n",
              "Name: num, dtype: int64"
            ]
          },
          "metadata": {},
          "execution_count": 7
        }
      ]
    },
    {
      "cell_type": "code",
      "metadata": {
        "colab": {
          "base_uri": "https://localhost:8080/"
        },
        "id": "0RRlTiRd9Eog",
        "outputId": "2b109448-6773-40b2-aed1-2757dc2e9df7"
      },
      "source": [
        "# Verificar o estado dos valores nulos e tipos de valores contidos no conjunto daddos\n",
        "df.info()"
      ],
      "execution_count": null,
      "outputs": [
        {
          "output_type": "stream",
          "name": "stdout",
          "text": [
            "<class 'pandas.core.frame.DataFrame'>\n",
            "RangeIndex: 303 entries, 0 to 302\n",
            "Data columns (total 14 columns):\n",
            " #   Column    Non-Null Count  Dtype  \n",
            "---  ------    --------------  -----  \n",
            " 0   age       303 non-null    float64\n",
            " 1   sex       303 non-null    float64\n",
            " 2   cp        303 non-null    float64\n",
            " 3   trestbps  303 non-null    float64\n",
            " 4   chol      303 non-null    float64\n",
            " 5   fbs       303 non-null    float64\n",
            " 6   restecg   303 non-null    float64\n",
            " 7   thalach   303 non-null    float64\n",
            " 8   exang     303 non-null    float64\n",
            " 9   oldpeak   303 non-null    float64\n",
            " 10  slope     303 non-null    float64\n",
            " 11  ca        303 non-null    float64\n",
            " 12  thal      303 non-null    float64\n",
            " 13  num       303 non-null    int64  \n",
            "dtypes: float64(13), int64(1)\n",
            "memory usage: 33.3 KB\n"
          ]
        }
      ]
    },
    {
      "cell_type": "markdown",
      "metadata": {
        "id": "mGaxL2WGwCzK"
      },
      "source": [
        "## Minha Análise Exploratória de Dados\n",
        "\n",
        "* Ver o tamanho do df (shape)\n",
        "* Ver a descrição estatística do df (describe)\n",
        "* Ver os tipos das variáveis do df (dtypes)\n",
        "* Ver as 5 primeiras entradas do df (head)\n",
        "* Contar quantos valores \"não há doença cardíaca\" (0) e \"há doença cardíaca\" (1) existem no *dataset* (value_counts)\n",
        "* Ver valores ausentes do df (isnull().sum())\n",
        "* Plotar o gráfico de linha para df_brasil\n",
        "* Plotar o gráfico de barras para ver a quantidade de homens e mulheres em df\n",
        "* Plotar o gráfico de dispersão para as variáveis `age` e `chol`\n",
        "* plotar um histograma para o colesterol sérico\n",
        "* plotar um gráfico de pizza para `restecg`\n",
        "* Plotar um *heatmap* com as correlações\n",
        "\n",
        "NÃO escreve apenas código. Um projeto ou relatório é para fornecer insumos e informações para alguém. SEMPRE documente, escreva e formule suas hipóteses. Você NÃO está escrevendo para outro programador ler. Você está preparando um relatório para os Diretores de nível estratégico de uma empresa.\n"
      ]
    },
    {
      "cell_type": "code",
      "metadata": {
        "colab": {
          "base_uri": "https://localhost:8080/"
        },
        "id": "HYv77gV9f4BE",
        "outputId": "0089c446-cd98-4c91-e501-8d652e56a88f"
      },
      "source": [
        "# 1 - Tamanho do conjunto de dados\n",
        "print('Linhas:', df.shape[0])\n",
        "print('Colunas:', df.shape[1])"
      ],
      "execution_count": null,
      "outputs": [
        {
          "output_type": "stream",
          "name": "stdout",
          "text": [
            "Linhas: 303\n",
            "Colunas: 14\n"
          ]
        }
      ]
    },
    {
      "cell_type": "code",
      "metadata": {
        "colab": {
          "base_uri": "https://localhost:8080/",
          "height": 297
        },
        "id": "BTL0hYqi9b7S",
        "outputId": "7b98cc2d-2ab2-4b5a-c9ee-4acdb61f0ac7"
      },
      "source": [
        "# 2 - Descrição estatistica \n",
        "df.describe()"
      ],
      "execution_count": null,
      "outputs": [
        {
          "output_type": "execute_result",
          "data": {
            "text/html": [
              "<div>\n",
              "<style scoped>\n",
              "    .dataframe tbody tr th:only-of-type {\n",
              "        vertical-align: middle;\n",
              "    }\n",
              "\n",
              "    .dataframe tbody tr th {\n",
              "        vertical-align: top;\n",
              "    }\n",
              "\n",
              "    .dataframe thead th {\n",
              "        text-align: right;\n",
              "    }\n",
              "</style>\n",
              "<table border=\"1\" class=\"dataframe\">\n",
              "  <thead>\n",
              "    <tr style=\"text-align: right;\">\n",
              "      <th></th>\n",
              "      <th>age</th>\n",
              "      <th>sex</th>\n",
              "      <th>cp</th>\n",
              "      <th>trestbps</th>\n",
              "      <th>chol</th>\n",
              "      <th>fbs</th>\n",
              "      <th>restecg</th>\n",
              "      <th>thalach</th>\n",
              "      <th>exang</th>\n",
              "      <th>oldpeak</th>\n",
              "      <th>slope</th>\n",
              "      <th>ca</th>\n",
              "      <th>thal</th>\n",
              "      <th>num</th>\n",
              "    </tr>\n",
              "  </thead>\n",
              "  <tbody>\n",
              "    <tr>\n",
              "      <th>count</th>\n",
              "      <td>303.000000</td>\n",
              "      <td>303.000000</td>\n",
              "      <td>303.000000</td>\n",
              "      <td>303.000000</td>\n",
              "      <td>303.000000</td>\n",
              "      <td>303.000000</td>\n",
              "      <td>303.000000</td>\n",
              "      <td>303.000000</td>\n",
              "      <td>303.000000</td>\n",
              "      <td>303.000000</td>\n",
              "      <td>303.000000</td>\n",
              "      <td>303.000000</td>\n",
              "      <td>303.000000</td>\n",
              "      <td>303.000000</td>\n",
              "    </tr>\n",
              "    <tr>\n",
              "      <th>mean</th>\n",
              "      <td>54.438944</td>\n",
              "      <td>0.679868</td>\n",
              "      <td>3.158416</td>\n",
              "      <td>131.689769</td>\n",
              "      <td>246.693069</td>\n",
              "      <td>0.148515</td>\n",
              "      <td>0.990099</td>\n",
              "      <td>149.607261</td>\n",
              "      <td>0.326733</td>\n",
              "      <td>1.039604</td>\n",
              "      <td>1.600660</td>\n",
              "      <td>0.663366</td>\n",
              "      <td>4.722772</td>\n",
              "      <td>0.458746</td>\n",
              "    </tr>\n",
              "    <tr>\n",
              "      <th>std</th>\n",
              "      <td>9.038662</td>\n",
              "      <td>0.467299</td>\n",
              "      <td>0.960126</td>\n",
              "      <td>17.599748</td>\n",
              "      <td>51.776918</td>\n",
              "      <td>0.356198</td>\n",
              "      <td>0.994971</td>\n",
              "      <td>22.875003</td>\n",
              "      <td>0.469794</td>\n",
              "      <td>1.161075</td>\n",
              "      <td>0.616226</td>\n",
              "      <td>0.934375</td>\n",
              "      <td>1.938383</td>\n",
              "      <td>0.499120</td>\n",
              "    </tr>\n",
              "    <tr>\n",
              "      <th>min</th>\n",
              "      <td>29.000000</td>\n",
              "      <td>0.000000</td>\n",
              "      <td>1.000000</td>\n",
              "      <td>94.000000</td>\n",
              "      <td>126.000000</td>\n",
              "      <td>0.000000</td>\n",
              "      <td>0.000000</td>\n",
              "      <td>71.000000</td>\n",
              "      <td>0.000000</td>\n",
              "      <td>0.000000</td>\n",
              "      <td>1.000000</td>\n",
              "      <td>0.000000</td>\n",
              "      <td>3.000000</td>\n",
              "      <td>0.000000</td>\n",
              "    </tr>\n",
              "    <tr>\n",
              "      <th>25%</th>\n",
              "      <td>48.000000</td>\n",
              "      <td>0.000000</td>\n",
              "      <td>3.000000</td>\n",
              "      <td>120.000000</td>\n",
              "      <td>211.000000</td>\n",
              "      <td>0.000000</td>\n",
              "      <td>0.000000</td>\n",
              "      <td>133.500000</td>\n",
              "      <td>0.000000</td>\n",
              "      <td>0.000000</td>\n",
              "      <td>1.000000</td>\n",
              "      <td>0.000000</td>\n",
              "      <td>3.000000</td>\n",
              "      <td>0.000000</td>\n",
              "    </tr>\n",
              "    <tr>\n",
              "      <th>50%</th>\n",
              "      <td>56.000000</td>\n",
              "      <td>1.000000</td>\n",
              "      <td>3.000000</td>\n",
              "      <td>130.000000</td>\n",
              "      <td>241.000000</td>\n",
              "      <td>0.000000</td>\n",
              "      <td>1.000000</td>\n",
              "      <td>153.000000</td>\n",
              "      <td>0.000000</td>\n",
              "      <td>0.800000</td>\n",
              "      <td>2.000000</td>\n",
              "      <td>0.000000</td>\n",
              "      <td>3.000000</td>\n",
              "      <td>0.000000</td>\n",
              "    </tr>\n",
              "    <tr>\n",
              "      <th>75%</th>\n",
              "      <td>61.000000</td>\n",
              "      <td>1.000000</td>\n",
              "      <td>4.000000</td>\n",
              "      <td>140.000000</td>\n",
              "      <td>275.000000</td>\n",
              "      <td>0.000000</td>\n",
              "      <td>2.000000</td>\n",
              "      <td>166.000000</td>\n",
              "      <td>1.000000</td>\n",
              "      <td>1.600000</td>\n",
              "      <td>2.000000</td>\n",
              "      <td>1.000000</td>\n",
              "      <td>7.000000</td>\n",
              "      <td>1.000000</td>\n",
              "    </tr>\n",
              "    <tr>\n",
              "      <th>max</th>\n",
              "      <td>77.000000</td>\n",
              "      <td>1.000000</td>\n",
              "      <td>4.000000</td>\n",
              "      <td>200.000000</td>\n",
              "      <td>564.000000</td>\n",
              "      <td>1.000000</td>\n",
              "      <td>2.000000</td>\n",
              "      <td>202.000000</td>\n",
              "      <td>1.000000</td>\n",
              "      <td>6.200000</td>\n",
              "      <td>3.000000</td>\n",
              "      <td>3.000000</td>\n",
              "      <td>7.000000</td>\n",
              "      <td>1.000000</td>\n",
              "    </tr>\n",
              "  </tbody>\n",
              "</table>\n",
              "</div>"
            ],
            "text/plain": [
              "              age         sex          cp  ...          ca        thal         num\n",
              "count  303.000000  303.000000  303.000000  ...  303.000000  303.000000  303.000000\n",
              "mean    54.438944    0.679868    3.158416  ...    0.663366    4.722772    0.458746\n",
              "std      9.038662    0.467299    0.960126  ...    0.934375    1.938383    0.499120\n",
              "min     29.000000    0.000000    1.000000  ...    0.000000    3.000000    0.000000\n",
              "25%     48.000000    0.000000    3.000000  ...    0.000000    3.000000    0.000000\n",
              "50%     56.000000    1.000000    3.000000  ...    0.000000    3.000000    0.000000\n",
              "75%     61.000000    1.000000    4.000000  ...    1.000000    7.000000    1.000000\n",
              "max     77.000000    1.000000    4.000000  ...    3.000000    7.000000    1.000000\n",
              "\n",
              "[8 rows x 14 columns]"
            ]
          },
          "metadata": {},
          "execution_count": 12
        }
      ]
    },
    {
      "cell_type": "code",
      "metadata": {
        "colab": {
          "base_uri": "https://localhost:8080/"
        },
        "id": "vqyJXPbz97tm",
        "outputId": "499057a0-3037-43f6-8029-a34c2273b500"
      },
      "source": [
        "# 3 - Tipo das variaveis\n",
        "df.dtypes"
      ],
      "execution_count": null,
      "outputs": [
        {
          "output_type": "execute_result",
          "data": {
            "text/plain": [
              "age         float64\n",
              "sex         float64\n",
              "cp          float64\n",
              "trestbps    float64\n",
              "chol        float64\n",
              "fbs         float64\n",
              "restecg     float64\n",
              "thalach     float64\n",
              "exang       float64\n",
              "oldpeak     float64\n",
              "slope       float64\n",
              "ca          float64\n",
              "thal        float64\n",
              "num           int64\n",
              "dtype: object"
            ]
          },
          "metadata": {},
          "execution_count": 14
        }
      ]
    },
    {
      "cell_type": "code",
      "metadata": {
        "colab": {
          "base_uri": "https://localhost:8080/",
          "height": 204
        },
        "id": "lo53fkYw-TqM",
        "outputId": "c7fb1add-09a3-411f-9e09-928d892d58ec"
      },
      "source": [
        "# 4 - 5 primeiras entradas\n",
        "df.head()"
      ],
      "execution_count": null,
      "outputs": [
        {
          "output_type": "execute_result",
          "data": {
            "text/html": [
              "<div>\n",
              "<style scoped>\n",
              "    .dataframe tbody tr th:only-of-type {\n",
              "        vertical-align: middle;\n",
              "    }\n",
              "\n",
              "    .dataframe tbody tr th {\n",
              "        vertical-align: top;\n",
              "    }\n",
              "\n",
              "    .dataframe thead th {\n",
              "        text-align: right;\n",
              "    }\n",
              "</style>\n",
              "<table border=\"1\" class=\"dataframe\">\n",
              "  <thead>\n",
              "    <tr style=\"text-align: right;\">\n",
              "      <th></th>\n",
              "      <th>age</th>\n",
              "      <th>sex</th>\n",
              "      <th>cp</th>\n",
              "      <th>trestbps</th>\n",
              "      <th>chol</th>\n",
              "      <th>fbs</th>\n",
              "      <th>restecg</th>\n",
              "      <th>thalach</th>\n",
              "      <th>exang</th>\n",
              "      <th>oldpeak</th>\n",
              "      <th>slope</th>\n",
              "      <th>ca</th>\n",
              "      <th>thal</th>\n",
              "      <th>num</th>\n",
              "    </tr>\n",
              "  </thead>\n",
              "  <tbody>\n",
              "    <tr>\n",
              "      <th>0</th>\n",
              "      <td>63.0</td>\n",
              "      <td>1.0</td>\n",
              "      <td>1.0</td>\n",
              "      <td>145.0</td>\n",
              "      <td>233.0</td>\n",
              "      <td>1.0</td>\n",
              "      <td>2.0</td>\n",
              "      <td>150.0</td>\n",
              "      <td>0.0</td>\n",
              "      <td>2.3</td>\n",
              "      <td>3.0</td>\n",
              "      <td>0.0</td>\n",
              "      <td>6.0</td>\n",
              "      <td>0</td>\n",
              "    </tr>\n",
              "    <tr>\n",
              "      <th>1</th>\n",
              "      <td>67.0</td>\n",
              "      <td>1.0</td>\n",
              "      <td>4.0</td>\n",
              "      <td>160.0</td>\n",
              "      <td>286.0</td>\n",
              "      <td>0.0</td>\n",
              "      <td>2.0</td>\n",
              "      <td>108.0</td>\n",
              "      <td>1.0</td>\n",
              "      <td>1.5</td>\n",
              "      <td>2.0</td>\n",
              "      <td>3.0</td>\n",
              "      <td>3.0</td>\n",
              "      <td>1</td>\n",
              "    </tr>\n",
              "    <tr>\n",
              "      <th>2</th>\n",
              "      <td>67.0</td>\n",
              "      <td>1.0</td>\n",
              "      <td>4.0</td>\n",
              "      <td>120.0</td>\n",
              "      <td>229.0</td>\n",
              "      <td>0.0</td>\n",
              "      <td>2.0</td>\n",
              "      <td>129.0</td>\n",
              "      <td>1.0</td>\n",
              "      <td>2.6</td>\n",
              "      <td>2.0</td>\n",
              "      <td>2.0</td>\n",
              "      <td>7.0</td>\n",
              "      <td>1</td>\n",
              "    </tr>\n",
              "    <tr>\n",
              "      <th>3</th>\n",
              "      <td>37.0</td>\n",
              "      <td>1.0</td>\n",
              "      <td>3.0</td>\n",
              "      <td>130.0</td>\n",
              "      <td>250.0</td>\n",
              "      <td>0.0</td>\n",
              "      <td>0.0</td>\n",
              "      <td>187.0</td>\n",
              "      <td>0.0</td>\n",
              "      <td>3.5</td>\n",
              "      <td>3.0</td>\n",
              "      <td>0.0</td>\n",
              "      <td>3.0</td>\n",
              "      <td>0</td>\n",
              "    </tr>\n",
              "    <tr>\n",
              "      <th>4</th>\n",
              "      <td>41.0</td>\n",
              "      <td>0.0</td>\n",
              "      <td>2.0</td>\n",
              "      <td>130.0</td>\n",
              "      <td>204.0</td>\n",
              "      <td>0.0</td>\n",
              "      <td>2.0</td>\n",
              "      <td>172.0</td>\n",
              "      <td>0.0</td>\n",
              "      <td>1.4</td>\n",
              "      <td>1.0</td>\n",
              "      <td>0.0</td>\n",
              "      <td>3.0</td>\n",
              "      <td>0</td>\n",
              "    </tr>\n",
              "  </tbody>\n",
              "</table>\n",
              "</div>"
            ],
            "text/plain": [
              "    age  sex   cp  trestbps   chol  fbs  ...  exang  oldpeak  slope   ca  thal  num\n",
              "0  63.0  1.0  1.0     145.0  233.0  1.0  ...    0.0      2.3    3.0  0.0   6.0    0\n",
              "1  67.0  1.0  4.0     160.0  286.0  0.0  ...    1.0      1.5    2.0  3.0   3.0    1\n",
              "2  67.0  1.0  4.0     120.0  229.0  0.0  ...    1.0      2.6    2.0  2.0   7.0    1\n",
              "3  37.0  1.0  3.0     130.0  250.0  0.0  ...    0.0      3.5    3.0  0.0   3.0    0\n",
              "4  41.0  0.0  2.0     130.0  204.0  0.0  ...    0.0      1.4    1.0  0.0   3.0    0\n",
              "\n",
              "[5 rows x 14 columns]"
            ]
          },
          "metadata": {},
          "execution_count": 15
        }
      ]
    },
    {
      "cell_type": "markdown",
      "metadata": {
        "id": "WLZAFVQugkya"
      },
      "source": [
        "## Perguntas sobre o conjunto de dados sobre Doenças Cardiovasculares"
      ]
    },
    {
      "cell_type": "markdown",
      "metadata": {
        "id": "pKhUnRb1g90M"
      },
      "source": [
        "### ** 01 - Qual a quantidade de pessoas que possuem ou não doenças cardiacas?**"
      ]
    },
    {
      "cell_type": "code",
      "metadata": {
        "colab": {
          "base_uri": "https://localhost:8080/"
        },
        "id": "AaGIsH3r-bb5",
        "outputId": "1baa1238-528e-43d5-86f7-52c6700b3af1"
      },
      "source": [
        "# 5 - Contar quantos valores \"não há doença cardíaca\" (0) e \"há doença cardíaca\" (1) existem no dataset (value_counts)\n",
        "print(\"A quantidade de pessoas que não possuem doenças cardiacas são 0:\\t{} ({:.2f}%)\".format(df.num.loc[df[\"num\"] == 0].value_counts()[0], 100*df.num.loc[df[\"num\"] == 0].value_counts()[0] / df.shape[0]))\n",
        "print(\"A quantidade de pessoas que possuem doença cardiacas são 1:\\t{} ({:.2f}%)\".format(df.num.loc[df[\"num\"] == 1].value_counts()[1], 100*df.num.loc[df[\"num\"] == 1].value_counts()[1] / df.shape[0]))"
      ],
      "execution_count": null,
      "outputs": [
        {
          "output_type": "stream",
          "name": "stdout",
          "text": [
            "A quantidade de pessoas que não possuem doenças cardiacas são 0:\t164 (54.13%)\n",
            "A quantidade de pessoas que possuem doença cardiacas são 1:\t139 (45.87%)\n"
          ]
        }
      ]
    },
    {
      "cell_type": "code",
      "metadata": {
        "colab": {
          "base_uri": "https://localhost:8080/"
        },
        "id": "ZYY_vm3JBktC",
        "outputId": "7da8e700-ec20-42bf-e82d-090bb74f3f0d"
      },
      "source": [
        "# 6 - Ver valores ausentes do df (isnull().sum())\n",
        "# print(\"{:.2f}%\".format(df.isnull().sum() / df.shape[0]))\n",
        "df.isnull().sum()"
      ],
      "execution_count": null,
      "outputs": [
        {
          "output_type": "execute_result",
          "data": {
            "text/plain": [
              "age         0\n",
              "sex         0\n",
              "cp          0\n",
              "trestbps    0\n",
              "chol        0\n",
              "fbs         0\n",
              "restecg     0\n",
              "thalach     0\n",
              "exang       0\n",
              "oldpeak     0\n",
              "slope       0\n",
              "ca          0\n",
              "thal        0\n",
              "num         0\n",
              "dtype: int64"
            ]
          },
          "metadata": {},
          "execution_count": 16
        }
      ]
    },
    {
      "cell_type": "markdown",
      "metadata": {
        "id": "QcSD4WrwQVgD"
      },
      "source": [
        "### ** 02 - Como esta a têndencia de mortes por doenças cardiovasculares ao longo dos anos no Brasil?** \n",
        "\n",
        "Têndencia de mortes no ano de 2004 a 2018"
      ]
    },
    {
      "cell_type": "code",
      "metadata": {
        "colab": {
          "base_uri": "https://localhost:8080/",
          "height": 297
        },
        "id": "MooTbaEfBkmh",
        "outputId": "ea14c1a9-5fcf-4ce5-b726-0e49fe412bcd"
      },
      "source": [
        "# 7 - Plotar o gráfico de linha para df_brasil\n",
        "fig, ax = plt.subplots()\n",
        "df_brasil.plot('ano','mortes_doencas_cardio', ax=ax)\n",
        "ax.set_title(\"Mortes no Brasil\")\n",
        "ax.set_xlabel('Ano')\n",
        "ax.set_ylabel('Mortes (mil)')\n",
        "plt.tight_layout()"
      ],
      "execution_count": null,
      "outputs": [
        {
          "output_type": "display_data",
          "data": {
            "image/png": "[encoded data removed]",
            "text/plain": [
              "<Figure size 432x288 with 1 Axes>"
            ]
          },
          "metadata": {
            "needs_background": "light"
          }
        }
      ]
    },
    {
      "cell_type": "markdown",
      "metadata": {
        "id": "YsJ_YkLH3MTQ"
      },
      "source": [
        "**O que se entende do grafico de linha plotado acima?**\n",
        "\n",
        "A conclusão que se entende do grafico em um espaço de tempo de 2004 a 2016, e que após a contagem de mortes de doenças cardio vasculares em 2004, houve um aumento vertiginoso em 2006 e continuou a crescer até o ano de 2016. Onde em 2014 para 2016, este aumento foi o maior de todos. Isso corrobora com a tese de que as doenças cardiovasculares, estão vitimando ainda mais brasileiros e deveria se tornar um dos focos da saúde pública do país. "
      ]
    },
    {
      "cell_type": "markdown",
      "metadata": {
        "id": "MxN368KlRgE3"
      },
      "source": [
        "### ** 03 - Quais são os motivos que mais matam brasileiros por doenças cardiovasculares?**\n",
        "\n",
        "As 5 doenças que mais causam mortes"
      ]
    },
    {
      "cell_type": "code",
      "metadata": {
        "colab": {
          "base_uri": "https://localhost:8080/",
          "height": 204
        },
        "id": "2xJra7wgRtJe",
        "outputId": "38e0dd96-1a58-41db-8238-b6da080e4b94"
      },
      "source": [
        "df_brasil_causas = pd.read_csv(\"https://raw.githubusercontent.com/YgorLourenco/Data-Scienece-na-Pratica---Sigmoidal---MOD-03---Matplotlib/master/mortes_causas_brasil_v3.csv\")\n",
        "df_brasil_causas.nlargest(5, 'TOTAL DE ÓBITOS')"
      ],
      "execution_count": null,
      "outputs": [
        {
          "output_type": "execute_result",
          "data": {
            "text/html": [
              "<div>\n",
              "<style scoped>\n",
              "    .dataframe tbody tr th:only-of-type {\n",
              "        vertical-align: middle;\n",
              "    }\n",
              "\n",
              "    .dataframe tbody tr th {\n",
              "        vertical-align: top;\n",
              "    }\n",
              "\n",
              "    .dataframe thead th {\n",
              "        text-align: right;\n",
              "    }\n",
              "</style>\n",
              "<table border=\"1\" class=\"dataframe\">\n",
              "  <thead>\n",
              "    <tr style=\"text-align: right;\">\n",
              "      <th></th>\n",
              "      <th>GRUPO DE CAUSAS</th>\n",
              "      <th>TOTAL DE ÓBITOS</th>\n",
              "    </tr>\n",
              "  </thead>\n",
              "  <tbody>\n",
              "    <tr>\n",
              "      <th>4</th>\n",
              "      <td>Neoplasias</td>\n",
              "      <td>1899311</td>\n",
              "    </tr>\n",
              "    <tr>\n",
              "      <th>5</th>\n",
              "      <td>Externas</td>\n",
              "      <td>1538892</td>\n",
              "    </tr>\n",
              "    <tr>\n",
              "      <th>6</th>\n",
              "      <td>Respiratórias</td>\n",
              "      <td>1276345</td>\n",
              "    </tr>\n",
              "    <tr>\n",
              "      <th>1</th>\n",
              "      <td>Infarto do miocárdio angina e outras doenças i...</td>\n",
              "      <td>1069653</td>\n",
              "    </tr>\n",
              "    <tr>\n",
              "      <th>0</th>\n",
              "      <td>Acidente vascular cerebral e outras cerebrovas...</td>\n",
              "      <td>1055643</td>\n",
              "    </tr>\n",
              "  </tbody>\n",
              "</table>\n",
              "</div>"
            ],
            "text/plain": [
              "                                     GRUPO DE CAUSAS  TOTAL DE ÓBITOS\n",
              "4                                         Neoplasias          1899311\n",
              "5                                           Externas          1538892\n",
              "6                                      Respiratórias          1276345\n",
              "1  Infarto do miocárdio angina e outras doenças i...          1069653\n",
              "0  Acidente vascular cerebral e outras cerebrovas...          1055643"
            ]
          },
          "metadata": {},
          "execution_count": 42
        }
      ]
    },
    {
      "cell_type": "code",
      "metadata": {
        "colab": {
          "base_uri": "https://localhost:8080/"
        },
        "id": "DtSo_DUYUzjj",
        "outputId": "03a53a22-bfeb-4976-c81d-af81cc5ddb9b"
      },
      "source": [
        "resultado_porcen = df_brasil_causas.loc[df_brasil_causas['GRUPO DE CAUSAS'] == 'Neoplasias'].values[0][1] / df_brasil_causas['TOTAL DE ÓBITOS'].sum()\n",
        "print('A Neoplasia e a causa com maior abrangência, representando {:.2%}'.format(resultado_porcen), 'dos casos, quase 1/5 das 20 doenças que causam ')"
      ],
      "execution_count": null,
      "outputs": [
        {
          "output_type": "stream",
          "name": "stdout",
          "text": [
            "A Neoplasia e a causa com maior abrangência, representando 15.66% dos casos, quase 1/5 das 20 doenças apresentadas\n"
          ]
        }
      ]
    },
    {
      "cell_type": "markdown",
      "metadata": {
        "id": "WE__VicTS2mI"
      },
      "source": [
        "A doença com mais vítimas e a Neoplasia, representando quando 1/5 das vítimas. Segundo o [Ministério da Saúde](https://pesquisa.bvsalud.org/portal/resource/pt/lil-559939), esta doença se torno uma das grandes preocupações da saúde pública, por se tratar de uma doença que esta crescendo de maneira exponencial e até virando motivo de assunto internacional pela [OMS(Organização Mundial da Saúde)](https://pesquisa.bvsalud.org/portal/resource/pt/lil-559939). Vitimando mais de 20 milhões de pessoas no mundo todo, só no Brasil são quase 2 milhões de pessoas."
      ]
    },
    {
      "cell_type": "markdown",
      "metadata": {
        "id": "QOdqk4PZnKIf"
      },
      "source": [
        "### ** 04 - Quantidade de pessoas com doença cardiovasculares baseado em sexo**\n",
        "\n",
        "0 - Simbolo para as mulheres\n",
        "\n",
        "1 - Simbolo para os homens "
      ]
    },
    {
      "cell_type": "code",
      "metadata": {
        "colab": {
          "base_uri": "https://localhost:8080/",
          "height": 265
        },
        "id": "qd6BLG3QuK2k",
        "outputId": "9588ba0c-fd19-4dbe-da99-0b7f51edc70a"
      },
      "source": [
        "# 8 - Plotar o gráfico de barras para ver a quantidade de homens e mulheres em df\n",
        "# print(\"Quantidade de mulheres\",df.sex.loc[df[\"sex\"] == 0].value_counts()[0])\n",
        "#print(\"Quantidade de homens\",df.sex.loc[df[\"sex\"] == 1].value_counts()[1])\n",
        "# fig, ax = plt.subplots(figsize=(10,6))\n",
        "# numero_linha = df.shape[0]\n",
        "# sexos = dict(df.sex.value_counts())\n",
        "# sexos_linha = sexos.keys\n",
        "# sexos_valor = sexos.values\n",
        "#df.plot(numero_linha, sexos, kind=\"bar\", ax=ax)\n",
        "# plt.bar(sexos.keys(),sexos.values())\n",
        "# plt.tight_layout()\n",
        "\n",
        "df.sex = df.sex.astype(int)\n",
        "x = df.sex.value_counts().index\n",
        "y = df.sex.value_counts().values\n",
        "\n",
        "fig, ax = plt.subplots()\n",
        "ax.bar(x, y, align='center', alpha=0.5)\n",
        "ax.set_xticks(x)\n",
        "plt.show()"
      ],
      "execution_count": null,
      "outputs": [
        {
          "output_type": "display_data",
          "data": {
            "image/png": "[encoded data removed]",
            "text/plain": [
              "<Figure size 432x288 with 1 Axes>"
            ]
          },
          "metadata": {
            "needs_background": "light"
          }
        }
      ]
    },
    {
      "cell_type": "markdown",
      "metadata": {
        "id": "qlTXMnFAnoeQ"
      },
      "source": [
        "Pode se entender com este gráfico que o sexo com maior chances de ter doenças cardiovasculares, são os homens. Os motivos podem ser diversos: aposentam mais tarde, são maioria em trabalhos de risco, investem pouco em saúde, etc. "
      ]
    },
    {
      "cell_type": "markdown",
      "metadata": {
        "id": "tnBr_POspN8w"
      },
      "source": [
        "### ** 05 - Em qual idade o Colesterol Sérico e mais concentrado?**\n",
        "\n",
        "Nesta analise exploratória agora, iremos ver em qual ponto do gráfico de dispersão existe mais correlação entre idade e o acumulo de \"Colesteral Sérico\"."
      ]
    },
    {
      "cell_type": "code",
      "metadata": {
        "colab": {
          "base_uri": "https://localhost:8080/",
          "height": 295
        },
        "id": "KAglVtzn5EFN",
        "outputId": "71992644-7a98-45e4-e80c-e28f54663fbf"
      },
      "source": [
        "# 9 - Plotar o gráfico de dispersão para as variáveis age e chol\n",
        "fig, ax = plt.subplots()\n",
        "\n",
        "# plotar median_income vs. median_house_value\n",
        "ax.scatter(x='age', y='chol', data=df, s=30, alpha=0.8)\n",
        "ax.set_title('Idade x Colesterol')\n",
        "ax.set_xlabel(\"Idade\")\n",
        "ax.set_ylabel(\"Colesterol Sérico\")\n",
        "\n",
        "plt.show()"
      ],
      "execution_count": null,
      "outputs": [
        {
          "output_type": "display_data",
          "data": {
            "image/png": "[encoded data removed]",
            "text/plain": [
              "<Figure size 432x288 with 1 Axes>"
            ]
          },
          "metadata": {
            "needs_background": "light"
          }
        }
      ]
    },
    {
      "cell_type": "markdown",
      "metadata": {
        "id": "D7CEFFcIppWe"
      },
      "source": [
        "Notasse que entre **50 a 60 anos**, existe um acumulo massivo de **colesterol beirando a 400mg/dl**. Pode significar ainda hábitos alimentares ruins pelo costume de algumas pessoas de terceira idade, quererem comer tudo o que não tiveram acesso quando mais novos e com pouco poder de compra. Além de não praticarem nenhum tipo e exercicio físico para manterem a saúde, podendo ser um pensamento comum de \"quererem descansar\" por terem trabalhado muito quando eram mais jovens."
      ]
    },
    {
      "cell_type": "markdown",
      "metadata": {
        "id": "_dHhFZsSsSBx"
      },
      "source": [
        "###**06 - Qual a frequência em mg/dl de Colesterol Sérico e encontrado nos vasos sanguineos dos pacientes?**"
      ]
    },
    {
      "cell_type": "code",
      "metadata": {
        "colab": {
          "base_uri": "https://localhost:8080/",
          "height": 297
        },
        "id": "G69Qw3Io5D3-",
        "outputId": "94e65a43-14ea-4e2c-84a8-2bc8f4d17b92"
      },
      "source": [
        "# 10 - plotar um histograma para o colesterol sérico\n",
        "fig, ax = plt.subplots()\n",
        "\n",
        "df[\"chol\"].plot(kind=\"hist\", ax=ax, density=True,bins=50)\n",
        "ax.set_title(\"Histograma de Colesterol Sérico\")\n",
        "ax.set_ylabel(\"Frequência\")\n",
        "ax.set_xlabel(\"Volume\")\n",
        "\n",
        "plt.tight_layout()"
      ],
      "execution_count": null,
      "outputs": [
        {
          "output_type": "display_data",
          "data": {
            "image/png": "[encoded data removed]",
            "text/plain": [
              "<Figure size 432x288 with 1 Axes>"
            ]
          },
          "metadata": {
            "needs_background": "light"
          }
        }
      ]
    },
    {
      "cell_type": "markdown",
      "metadata": {
        "id": "Z0IZ913CsffW"
      },
      "source": [
        "Os níveis de colesterol giram em torno de 200 a 300mg/dl, onde [segundo a \"Sociedade Brasileira de Endocrinologia e Metabologia\"](https://www.hermespardini.com.br/blog/?p=76) apontam que o valor ideal e menor do que 240mg/dl. Ficando muito propicio o paciente desenvolver doenças cardiovasculares, como hipertensão e diabetes."
      ]
    },
    {
      "cell_type": "markdown",
      "metadata": {
        "id": "uPF21VR6vCBM"
      },
      "source": [
        "###**07 - Qual a quantidade de pacientes que apresentam anomalias nos resultados de eletrocardiografia?**\n",
        "\n",
        "\n",
        "*   0.0: normal\n",
        "*   1.0: anormalidades de ST-T (inversão da onda T e elevação ou depressão de > 0.05mV)\n",
        "*   2.0: hipertrofia ventricular esquerda provável ou definitiva (pelos critérios de Romhilt-Estes)"
      ]
    },
    {
      "cell_type": "code",
      "metadata": {
        "colab": {
          "base_uri": "https://localhost:8080/",
          "height": 441
        },
        "id": "GzWzT2iH5MlF",
        "outputId": "6d2b0d59-c934-4aa7-b63c-d82b024bb936"
      },
      "source": [
        "# 11 - plotar um gráfico de pizza para restecg\n",
        "#resultado do eletrocardiografia de repouso\n",
        "#0.0: normal\n",
        "#1.0: anormalidades de ST-T (inversão da onda T e elevação ou depressão de > 0.05mV)\n",
        "#2.0: hipertrofia ventricular esquerda provável ou definitiva (pelos critérios de Romhilt-Estes)\n",
        "\n",
        "eletrocardiografia_repouso = dict(df.restecg.value_counts())\n",
        "labels = eletrocardiografia_repouso.keys()\n",
        "sizes = eletrocardiografia_repouso.values()\n",
        "explode = (0.1, 0, 0)\n",
        "\n",
        "fig, ax = plt.subplots(figsize=(6,6))\n",
        "\n",
        "ax.pie(sizes, labels=labels, explode=explode, shadow=True)\n",
        "ax.set_title(\"Resultado do Eletrocardiografia de Repouso\")\n",
        "\n",
        "plt.tight_layout()"
      ],
      "execution_count": null,
      "outputs": [
        {
          "output_type": "display_data",
          "data": {
            "image/png": "[encoded data removed]",
            "text/plain": [
              "<Figure size 432x432 with 1 Axes>"
            ]
          },
          "metadata": {}
        }
      ]
    },
    {
      "cell_type": "markdown",
      "metadata": {
        "id": "O6tNVT_rw0Ng"
      },
      "source": [
        "Maioria dos pacientes tiveram o seu resultado algo normal, mas [segundo o Dr Pedro Pinheiro](https://www.mdsaude.com/cardiologia/exame-eletrocardiograma-ecg/), os exames que apresentam \"anormalidades no ST-T\" podem ser indicios de infarto do miocárdio."
      ]
    },
    {
      "cell_type": "code",
      "metadata": {
        "colab": {
          "base_uri": "https://localhost:8080/"
        },
        "id": "nSz5gd7-YBKX",
        "outputId": "7600dfe9-2453-4c86-da0a-39dda16d2bdf"
      },
      "source": [
        "df.restecg.value_counts()"
      ],
      "execution_count": null,
      "outputs": [
        {
          "output_type": "execute_result",
          "data": {
            "text/plain": [
              "0.0    151\n",
              "2.0    148\n",
              "1.0      4\n",
              "Name: restecg, dtype: int64"
            ]
          },
          "metadata": {},
          "execution_count": 28
        }
      ]
    },
    {
      "cell_type": "markdown",
      "metadata": {
        "id": "3uQEmr-D6Myp"
      },
      "source": [
        "###**08 - Qual a correlação geral de todas as variaveis do conjunto de dados?**"
      ]
    },
    {
      "cell_type": "code",
      "metadata": {
        "colab": {
          "base_uri": "https://localhost:8080/",
          "height": 729
        },
        "id": "3cH3F5jK5QwF",
        "outputId": "4b6ca8b7-4cc6-433d-f3bd-236306d19f3b"
      },
      "source": [
        "# 12 - Plotar um heatmap com as correlações\n",
        "fig, ax = plt.subplots(figsize=(10,10))\n",
        "sns.heatmap(df.corr(), annot=True, ax=ax, cmap='coolwarm')\n",
        "plt.tight_layout()"
      ],
      "execution_count": null,
      "outputs": [
        {
          "output_type": "display_data",
          "data": {
            "image/png": "[encoded data removed]",
            "text/plain": [
              "<Figure size 720x720 with 2 Axes>"
            ]
          },
          "metadata": {
            "needs_background": "light"
          }
        }
      ]
    },
    {
      "cell_type": "markdown",
      "metadata": {
        "id": "SEYzCktaHgxg"
      },
      "source": [
        "## **Conclusões**\n",
        "\n",
        "\n",
        "*   Mais afetados são do sexo masculino.\n",
        "*   A idade com maior número vitima e dos 50 a 60 anos.\n",
        "*   Neoplasia esta entre as principais causas de mortes.\n",
        "*   No geral a maioria dos pacientes possuem o colesterol na casa dos 200 a 300 mg/dl, ou seja, em uma zona de risco.\n",
        "*   Maioria dos exames de eletrocardiografia tem com o resultado indicios de hipertrofia ventricular.\n",
        "\n"
      ]
    }
  ]
}